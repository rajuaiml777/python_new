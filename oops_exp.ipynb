{
  "nbformat": 4,
  "nbformat_minor": 0,
  "metadata": {
    "colab": {
      "name": "oops_exp.ipynb",
      "provenance": []
    },
    "kernelspec": {
      "name": "python3",
      "display_name": "Python 3"
    },
    "language_info": {
      "name": "python"
    }
  },
  "cells": [
    {
      "cell_type": "code",
      "source": [
        "class Parent():\n",
        "    college_name = \"ABC College\"\n",
        "    def __init__(self,id_no, name, branch,mobile, section, blood_group):\n",
        "        self.id_no = id_no\n",
        "        self.name = name\n",
        "        self.branch = branch\n",
        "        self.mobile = mobile\n",
        "        self.section = section\n",
        "        self.blood_group = blood_group\n",
        "        \n",
        "    def get_info(self):\n",
        "        return self.college_name, self.id_no, self.name, self.branch, self.mobile, self.section, self.blood_group\n",
        "a = Parent(777, 'raju', 'MECH',9999999999, 'A', 'O+')\n",
        "a.get_info()\n",
        "class Child(Parent):\n",
        "    college_name = 'XYZ college'\n",
        "    def __init__(self,id_no, name, branch,mobile, section, blood_group):\n",
        "        super().__init__(id_no, name, branch,mobile, section, blood_group )\n",
        "b = Child(999, 'kalyan', 'MECH',9999999999, 'A', 'O+')\n",
        "b.get_info()"
      ],
      "metadata": {
        "id": "GH0fvESC60fk",
        "colab": {
          "base_uri": "https://localhost:8080/"
        },
        "outputId": "65d26d22-94b7-4d62-f9de-e53d86922994"
      },
      "execution_count": 1,
      "outputs": [
        {
          "output_type": "execute_result",
          "data": {
            "text/plain": [
              "('XYZ college', 999, 'kalyan', 'MECH', 9999999999, 'A', 'O+')"
            ]
          },
          "metadata": {},
          "execution_count": 1
        }
      ]
    },
    {
      "cell_type": "code",
      "source": [
        ""
      ],
      "metadata": {
        "id": "JqhGKnO260iH"
      },
      "execution_count": null,
      "outputs": []
    },
    {
      "cell_type": "code",
      "source": [
        ""
      ],
      "metadata": {
        "id": "p59JGCjZ60jz"
      },
      "execution_count": null,
      "outputs": []
    },
    {
      "cell_type": "code",
      "source": [
        ""
      ],
      "metadata": {
        "id": "hHw2zzQy60li"
      },
      "execution_count": null,
      "outputs": []
    },
    {
      "cell_type": "code",
      "source": [
        ""
      ],
      "metadata": {
        "id": "mpS9Ulyr60nI"
      },
      "execution_count": null,
      "outputs": []
    },
    {
      "cell_type": "code",
      "source": [
        ""
      ],
      "metadata": {
        "id": "JPlLD-OZ60o8"
      },
      "execution_count": null,
      "outputs": []
    },
    {
      "cell_type": "code",
      "source": [
        ""
      ],
      "metadata": {
        "id": "ejGYmSb860qv"
      },
      "execution_count": null,
      "outputs": []
    },
    {
      "cell_type": "code",
      "source": [
        ""
      ],
      "metadata": {
        "id": "DbdGycFi60sf"
      },
      "execution_count": null,
      "outputs": []
    },
    {
      "cell_type": "code",
      "source": [
        ""
      ],
      "metadata": {
        "id": "nPL2lwd360uX"
      },
      "execution_count": null,
      "outputs": []
    },
    {
      "cell_type": "code",
      "source": [
        ""
      ],
      "metadata": {
        "id": "XX4poM1-60wf"
      },
      "execution_count": null,
      "outputs": []
    }
  ]
}